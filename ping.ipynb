{
 "cells": [
  {
   "cell_type": "code",
   "execution_count": 4,
   "metadata": {},
   "outputs": [
    {
     "ename": "KeyboardInterrupt",
     "evalue": "",
     "output_type": "error",
     "traceback": [
      "\u001b[1;31m---------------------------------------------------------------------------\u001b[0m",
      "\u001b[1;31mKeyboardInterrupt\u001b[0m                         Traceback (most recent call last)",
      "Cell \u001b[1;32mIn [4], line 26\u001b[0m\n\u001b[0;32m     24\u001b[0m         df \u001b[39m=\u001b[39m df\u001b[39m.\u001b[39mappend(ping_data[\u001b[39m-\u001b[39m\u001b[39m1\u001b[39m], ignore_index\u001b[39m=\u001b[39m\u001b[39mTrue\u001b[39;00m)\n\u001b[0;32m     25\u001b[0m         \u001b[39mprint\u001b[39m(ping_data)\n\u001b[1;32m---> 26\u001b[0m     time\u001b[39m.\u001b[39msleep(\u001b[39m1\u001b[39m)\n\u001b[0;32m     28\u001b[0m \u001b[39mprint\u001b[39m(df)\n",
      "\u001b[1;31mKeyboardInterrupt\u001b[0m: "
     ]
    }
   ],
   "source": [
    "import subprocess\n",
    "import time\n",
    "import pandas as pd\n",
    "\n",
    "def get_ping(host):\n",
    "    ping = subprocess.Popen(\n",
    "        [\"ping\", \"-c\", \"1\", host],\n",
    "        stdout = subprocess.PIPE,\n",
    "        stderr = subprocess.PIPE\n",
    "    )\n",
    "    out, error = ping.communicate()\n",
    "    return out\n",
    "\n",
    "host = \"www.google.com\"\n",
    "ping_data = []\n",
    "df = pd.DataFrame(columns=[\"Time\", \"Ping (ms)\"])\n",
    "\n",
    "while True:\n",
    "    result = get_ping(host)\n",
    "    if \"time=\" in str(result):\n",
    "        time_index = str(result).index(\"time=\") + 5\n",
    "        ping_time = float(str(result)[time_index:].split(\" \")[0])\n",
    "        ping_data.append({\"Time\": time.strftime(\"%Y-%m-%d %H:%M:%S\"), \"Ping (ms)\": ping_time})\n",
    "        df = df.append(ping_data[-1], ignore_index=True)\n",
    "        print(ping_data)\n",
    "    time.sleep(1)\n",
    "\n",
    "print(df)"
   ]
  },
  {
   "cell_type": "code",
   "execution_count": 6,
   "metadata": {},
   "outputs": [
    {
     "data": {
      "text/plain": [
       "b'Access denied. Option -c requires administrative privileges.\\r\\n'"
      ]
     },
     "execution_count": 6,
     "metadata": {},
     "output_type": "execute_result"
    }
   ],
   "source": [
    "get_ping(host)"
   ]
  },
  {
   "cell_type": "code",
   "execution_count": 10,
   "metadata": {},
   "outputs": [
    {
     "name": "stdout",
     "output_type": "stream",
     "text": [
      "                   Timestamp  Ping (seconds)\n",
      "0   Sat Feb 11 10:01:06 2023        0.028018\n",
      "1   Sat Feb 11 10:01:07 2023        0.024021\n",
      "2   Sat Feb 11 10:01:08 2023        0.009830\n",
      "3   Sat Feb 11 10:01:09 2023        0.023661\n",
      "4   Sat Feb 11 10:01:10 2023        0.010009\n",
      "5   Sat Feb 11 10:01:11 2023        0.023720\n",
      "6   Sat Feb 11 10:01:12 2023        0.010010\n",
      "7   Sat Feb 11 10:01:13 2023        0.024004\n",
      "8   Sat Feb 11 10:01:14 2023        0.010010\n",
      "9   Sat Feb 11 10:01:15 2023        0.023840\n",
      "10  Sat Feb 11 10:01:16 2023        0.009850\n",
      "11  Sat Feb 11 10:01:17 2023        0.023671\n",
      "12  Sat Feb 11 10:01:18 2023        0.023637\n",
      "13  Sat Feb 11 10:01:20 2023        0.024022\n",
      "14  Sat Feb 11 10:01:21 2023        0.024658\n"
     ]
    },
    {
     "ename": "KeyError",
     "evalue": "'Ping (ms)'",
     "output_type": "error",
     "traceback": [
      "\u001b[1;31m---------------------------------------------------------------------------\u001b[0m",
      "\u001b[1;31mKeyError\u001b[0m                                  Traceback (most recent call last)",
      "File \u001b[1;32m~\\AppData\\Local\\Packages\\PythonSoftwareFoundation.Python.3.9_qbz5n2kfra8p0\\LocalCache\\local-packages\\Python39\\site-packages\\pandas\\core\\indexes\\base.py:3803\u001b[0m, in \u001b[0;36mIndex.get_loc\u001b[1;34m(self, key, method, tolerance)\u001b[0m\n\u001b[0;32m   3802\u001b[0m \u001b[39mtry\u001b[39;00m:\n\u001b[1;32m-> 3803\u001b[0m     \u001b[39mreturn\u001b[39;00m \u001b[39mself\u001b[39;49m\u001b[39m.\u001b[39;49m_engine\u001b[39m.\u001b[39;49mget_loc(casted_key)\n\u001b[0;32m   3804\u001b[0m \u001b[39mexcept\u001b[39;00m \u001b[39mKeyError\u001b[39;00m \u001b[39mas\u001b[39;00m err:\n",
      "File \u001b[1;32m~\\AppData\\Local\\Packages\\PythonSoftwareFoundation.Python.3.9_qbz5n2kfra8p0\\LocalCache\\local-packages\\Python39\\site-packages\\pandas\\_libs\\index.pyx:138\u001b[0m, in \u001b[0;36mpandas._libs.index.IndexEngine.get_loc\u001b[1;34m()\u001b[0m\n",
      "File \u001b[1;32m~\\AppData\\Local\\Packages\\PythonSoftwareFoundation.Python.3.9_qbz5n2kfra8p0\\LocalCache\\local-packages\\Python39\\site-packages\\pandas\\_libs\\index.pyx:165\u001b[0m, in \u001b[0;36mpandas._libs.index.IndexEngine.get_loc\u001b[1;34m()\u001b[0m\n",
      "File \u001b[1;32mpandas\\_libs\\hashtable_class_helper.pxi:5745\u001b[0m, in \u001b[0;36mpandas._libs.hashtable.PyObjectHashTable.get_item\u001b[1;34m()\u001b[0m\n",
      "File \u001b[1;32mpandas\\_libs\\hashtable_class_helper.pxi:5753\u001b[0m, in \u001b[0;36mpandas._libs.hashtable.PyObjectHashTable.get_item\u001b[1;34m()\u001b[0m\n",
      "\u001b[1;31mKeyError\u001b[0m: 'Ping (ms)'",
      "\nThe above exception was the direct cause of the following exception:\n",
      "\u001b[1;31mKeyError\u001b[0m                                  Traceback (most recent call last)",
      "Cell \u001b[1;32mIn [10], line 12\u001b[0m\n\u001b[0;32m      9\u001b[0m     plt\u001b[39m.\u001b[39mtight_layout()\n\u001b[0;32m     10\u001b[0m     plt\u001b[39m.\u001b[39mshow()\n\u001b[1;32m---> 12\u001b[0m plot_ping_data(df)\n",
      "Cell \u001b[1;32mIn [10], line 4\u001b[0m, in \u001b[0;36mplot_ping_data\u001b[1;34m(df)\u001b[0m\n\u001b[0;32m      3\u001b[0m \u001b[39mdef\u001b[39;00m \u001b[39mplot_ping_data\u001b[39m(df):\n\u001b[1;32m----> 4\u001b[0m     plt\u001b[39m.\u001b[39mplot(df[\u001b[39m\"\u001b[39m\u001b[39mTimestamp\u001b[39m\u001b[39m\"\u001b[39m], df[\u001b[39m\"\u001b[39;49m\u001b[39mPing (ms)\u001b[39;49m\u001b[39m\"\u001b[39;49m], marker\u001b[39m=\u001b[39m\u001b[39m\"\u001b[39m\u001b[39mo\u001b[39m\u001b[39m\"\u001b[39m)\n\u001b[0;32m      5\u001b[0m     plt\u001b[39m.\u001b[39mxlabel(\u001b[39m\"\u001b[39m\u001b[39mTime\u001b[39m\u001b[39m\"\u001b[39m)\n\u001b[0;32m      6\u001b[0m     plt\u001b[39m.\u001b[39mylabel(\u001b[39m\"\u001b[39m\u001b[39mPing (ms)\u001b[39m\u001b[39m\"\u001b[39m)\n",
      "File \u001b[1;32m~\\AppData\\Local\\Packages\\PythonSoftwareFoundation.Python.3.9_qbz5n2kfra8p0\\LocalCache\\local-packages\\Python39\\site-packages\\pandas\\core\\frame.py:3805\u001b[0m, in \u001b[0;36mDataFrame.__getitem__\u001b[1;34m(self, key)\u001b[0m\n\u001b[0;32m   3803\u001b[0m \u001b[39mif\u001b[39;00m \u001b[39mself\u001b[39m\u001b[39m.\u001b[39mcolumns\u001b[39m.\u001b[39mnlevels \u001b[39m>\u001b[39m \u001b[39m1\u001b[39m:\n\u001b[0;32m   3804\u001b[0m     \u001b[39mreturn\u001b[39;00m \u001b[39mself\u001b[39m\u001b[39m.\u001b[39m_getitem_multilevel(key)\n\u001b[1;32m-> 3805\u001b[0m indexer \u001b[39m=\u001b[39m \u001b[39mself\u001b[39;49m\u001b[39m.\u001b[39;49mcolumns\u001b[39m.\u001b[39;49mget_loc(key)\n\u001b[0;32m   3806\u001b[0m \u001b[39mif\u001b[39;00m is_integer(indexer):\n\u001b[0;32m   3807\u001b[0m     indexer \u001b[39m=\u001b[39m [indexer]\n",
      "File \u001b[1;32m~\\AppData\\Local\\Packages\\PythonSoftwareFoundation.Python.3.9_qbz5n2kfra8p0\\LocalCache\\local-packages\\Python39\\site-packages\\pandas\\core\\indexes\\base.py:3805\u001b[0m, in \u001b[0;36mIndex.get_loc\u001b[1;34m(self, key, method, tolerance)\u001b[0m\n\u001b[0;32m   3803\u001b[0m     \u001b[39mreturn\u001b[39;00m \u001b[39mself\u001b[39m\u001b[39m.\u001b[39m_engine\u001b[39m.\u001b[39mget_loc(casted_key)\n\u001b[0;32m   3804\u001b[0m \u001b[39mexcept\u001b[39;00m \u001b[39mKeyError\u001b[39;00m \u001b[39mas\u001b[39;00m err:\n\u001b[1;32m-> 3805\u001b[0m     \u001b[39mraise\u001b[39;00m \u001b[39mKeyError\u001b[39;00m(key) \u001b[39mfrom\u001b[39;00m \u001b[39merr\u001b[39;00m\n\u001b[0;32m   3806\u001b[0m \u001b[39mexcept\u001b[39;00m \u001b[39mTypeError\u001b[39;00m:\n\u001b[0;32m   3807\u001b[0m     \u001b[39m# If we have a listlike key, _check_indexing_error will raise\u001b[39;00m\n\u001b[0;32m   3808\u001b[0m     \u001b[39m#  InvalidIndexError. Otherwise we fall through and re-raise\u001b[39;00m\n\u001b[0;32m   3809\u001b[0m     \u001b[39m#  the TypeError.\u001b[39;00m\n\u001b[0;32m   3810\u001b[0m     \u001b[39mself\u001b[39m\u001b[39m.\u001b[39m_check_indexing_error(key)\n",
      "\u001b[1;31mKeyError\u001b[0m: 'Ping (ms)'"
     ]
    }
   ],
   "source": [
    "import matplotlib.pyplot as plt\n",
    "print(df)\n",
    "def plot_ping_data(df):\n",
    "    plt.plot(df[\"Timestamp\"], df[\"Ping (seconds)\"], marker=\"o\")\n",
    "    plt.xlabel(\"Time\")\n",
    "    plt.ylabel(\"Ping (ms)\")\n",
    "    plt.title(\"Ping Over Time\")\n",
    "    plt.xticks(rotation=45)\n",
    "    plt.tight_layout()\n",
    "    plt.show()\n",
    "\n",
    "plot_ping_data(df)"
   ]
  },
  {
   "cell_type": "code",
   "execution_count": 11,
   "metadata": {},
   "outputs": [
    {
     "name": "stderr",
     "output_type": "stream",
     "text": [
      "C:\\Users\\vojislav\\AppData\\Local\\Temp\\ipykernel_16092\\566679987.py:26: FutureWarning: The frame.append method is deprecated and will be removed from pandas in a future version. Use pandas.concat instead.\n",
      "  df = df.append(pd.DataFrame(results[-1], index=[0]), ignore_index=True)\n",
      "C:\\Users\\vojislav\\AppData\\Local\\Temp\\ipykernel_16092\\566679987.py:26: FutureWarning: The frame.append method is deprecated and will be removed from pandas in a future version. Use pandas.concat instead.\n",
      "  df = df.append(pd.DataFrame(results[-1], index=[0]), ignore_index=True)\n",
      "C:\\Users\\vojislav\\AppData\\Local\\Temp\\ipykernel_16092\\566679987.py:26: FutureWarning: The frame.append method is deprecated and will be removed from pandas in a future version. Use pandas.concat instead.\n",
      "  df = df.append(pd.DataFrame(results[-1], index=[0]), ignore_index=True)\n",
      "C:\\Users\\vojislav\\AppData\\Local\\Temp\\ipykernel_16092\\566679987.py:26: FutureWarning: The frame.append method is deprecated and will be removed from pandas in a future version. Use pandas.concat instead.\n",
      "  df = df.append(pd.DataFrame(results[-1], index=[0]), ignore_index=True)\n",
      "C:\\Users\\vojislav\\AppData\\Local\\Temp\\ipykernel_16092\\566679987.py:26: FutureWarning: The frame.append method is deprecated and will be removed from pandas in a future version. Use pandas.concat instead.\n",
      "  df = df.append(pd.DataFrame(results[-1], index=[0]), ignore_index=True)\n",
      "C:\\Users\\vojislav\\AppData\\Local\\Temp\\ipykernel_16092\\566679987.py:26: FutureWarning: The frame.append method is deprecated and will be removed from pandas in a future version. Use pandas.concat instead.\n",
      "  df = df.append(pd.DataFrame(results[-1], index=[0]), ignore_index=True)\n",
      "C:\\Users\\vojislav\\AppData\\Local\\Temp\\ipykernel_16092\\566679987.py:26: FutureWarning: The frame.append method is deprecated and will be removed from pandas in a future version. Use pandas.concat instead.\n",
      "  df = df.append(pd.DataFrame(results[-1], index=[0]), ignore_index=True)\n",
      "C:\\Users\\vojislav\\AppData\\Local\\Temp\\ipykernel_16092\\566679987.py:26: FutureWarning: The frame.append method is deprecated and will be removed from pandas in a future version. Use pandas.concat instead.\n",
      "  df = df.append(pd.DataFrame(results[-1], index=[0]), ignore_index=True)\n",
      "C:\\Users\\vojislav\\AppData\\Local\\Temp\\ipykernel_16092\\566679987.py:26: FutureWarning: The frame.append method is deprecated and will be removed from pandas in a future version. Use pandas.concat instead.\n",
      "  df = df.append(pd.DataFrame(results[-1], index=[0]), ignore_index=True)\n",
      "C:\\Users\\vojislav\\AppData\\Local\\Temp\\ipykernel_16092\\566679987.py:26: FutureWarning: The frame.append method is deprecated and will be removed from pandas in a future version. Use pandas.concat instead.\n",
      "  df = df.append(pd.DataFrame(results[-1], index=[0]), ignore_index=True)\n",
      "C:\\Users\\vojislav\\AppData\\Local\\Temp\\ipykernel_16092\\566679987.py:26: FutureWarning: The frame.append method is deprecated and will be removed from pandas in a future version. Use pandas.concat instead.\n",
      "  df = df.append(pd.DataFrame(results[-1], index=[0]), ignore_index=True)\n"
     ]
    }
   ],
   "source": [
    "import socket\n",
    "import time\n",
    "import pandas as pd\n",
    "\n",
    "host = 'google.com'\n",
    "port = 80\n",
    "\n",
    "def is_up(host, port):\n",
    "    s = socket.socket(socket.AF_INET, socket.SOCK_STREAM)\n",
    "    s.settimeout(1)\n",
    "    try:\n",
    "        start_time = time.time()\n",
    "        s.connect((host, port))\n",
    "        s.shutdown(2)\n",
    "        end_time = time.time()\n",
    "        return end_time - start_time\n",
    "    except:\n",
    "        return None\n",
    "\n",
    "results = []\n",
    "df = pd.DataFrame(columns=['Timestamp', 'Ping (seconds)'])\n",
    "while True:\n",
    "    ping = is_up(host, port)\n",
    "    if ping is not None:\n",
    "        results.append({'Timestamp': time.ctime(), 'Ping (ms)': ping*1000})\n",
    "        df = df.append(pd.DataFrame(results[-1], index=[0]), ignore_index=True)\n",
    "    time.sleep(1)"
   ]
  }
 ],
 "metadata": {
  "kernelspec": {
   "display_name": "Python 3",
   "language": "python",
   "name": "python3"
  },
  "language_info": {
   "codemirror_mode": {
    "name": "ipython",
    "version": 3
   },
   "file_extension": ".py",
   "mimetype": "text/x-python",
   "name": "python",
   "nbconvert_exporter": "python",
   "pygments_lexer": "ipython3",
   "version": "3.9.13"
  },
  "orig_nbformat": 4,
  "vscode": {
   "interpreter": {
    "hash": "cfc77e6b980cba042447e902cac1048ba5b64bcbbbd2d7dfda80ee1c19240663"
   }
  }
 },
 "nbformat": 4,
 "nbformat_minor": 2
}
